{
 "cells": [
  {
   "cell_type": "code",
   "execution_count": null,
   "id": "174acac0-cd2f-4796-8c19-22f005170bfa",
   "metadata": {},
   "outputs": [
    {
     "name": "stdout",
     "output_type": "stream",
     "text": [
      "\n",
      "Options:\n",
      "1. Add Student\n",
      "2. Display Students\n",
      "3. Update Student\n",
      "4. Delete Student\n",
      "5. Exit\n"
     ]
    },
    {
     "name": "stdin",
     "output_type": "stream",
     "text": [
      "Choose an option:  1\n",
      "Enter student name:  Tumisang\n",
      "Enter student name:  Tumisang\n",
      "Enter student age:  13\n",
      "Enter student grade:  8\n"
     ]
    },
    {
     "name": "stdout",
     "output_type": "stream",
     "text": [
      "\n",
      "Options:\n",
      "1. Add Student\n",
      "2. Display Students\n",
      "3. Update Student\n",
      "4. Delete Student\n",
      "5. Exit\n"
     ]
    }
   ],
   "source": [
    "def get_student_info():\n",
    "    # Function to gather information about a student\n",
    "    return {\n",
    "        \"name\": input(\"Enter student name: \"),  # Enter student's name\n",
    "        \"age\": int(input(\"Enter student age: \")),  # Enter the student's age and convert it to an integer\n",
    "        \"grade\": input(\"Enter student grade: \")  # Enter the student's grade\n",
    "    }\n",
    "\n",
    "def add_student(students):\n",
    "    # Function to add a new student to the students dictionary\n",
    "    student_name = input(\"Enter student name: \")  # Enter the student's name\n",
    "    if student_name in students:\n",
    "        print(\"Student already exists.\")  # Check if the student already exists\n",
    "        return False  # Return False if the student is already in the list\n",
    "    students[student_name] = get_student_info()  # Add the new student info to the dictionary\n",
    "    return True  # Return True indicating the student was added successfully\n",
    "\n",
    "def display_students(students):\n",
    "    # Function to display the current list of students and their information\n",
    "    print(\"\\nCurrent Students:\")\n",
    "    for student, info in students.items():  # Iterate over each student in the dictionary\n",
    "        print(f\"{student}:\")  # Print the student's name\n",
    "        print(f\"  Age: {info['age']}\")  # Print the student's age\n",
    "        print(f\"  Grade: {info['grade']}\")  # Print the student's grade\n",
    "\n",
    "def update_student(students):\n",
    "    # Function to update an existing student's information\n",
    "    student_name = input(\"Enter student name to update: \")  # Enter the student's name to update\n",
    "    if student_name not in students:\n",
    "        print(\"Student not found.\")  # Check if the student exists\n",
    "        return False  # Return False if the student is not found\n",
    "    info = get_student_info()  # Get the updated information for the student\n",
    "    students[student_name] = info  # Update the student's info in the dictionary\n",
    "    return True  # Return True indicating the student was updated successfully\n",
    "\n",
    "def delete_student(students):\n",
    "    # Function to remove a student from the students dictionary\n",
    "    student_name = input(\"Enter student name to remove: \")  #Enter the student's name to delete\n",
    "    if student_name not in students:\n",
    "        print(\"Student not found.\")  # Check if the student exists\n",
    "        return False  # Return False if the student is not found\n",
    "    del students[student_name]  # Remove the student from the dictionary\n",
    "    return True  # Return True indicating the student was deleted successfully\n",
    "\n",
    "def main():\n",
    "    # Main function to run the student management program\n",
    "    students = {}  # Initialize an empty dictionary to store student information\n",
    "\n",
    "    while True:  # Infinite loop to keep the program running until the user chooses to exit\n",
    "        print(\"\\nOptions:\")\n",
    "        print(\"1. Add Student\")\n",
    "        print(\"2. Display Students\")\n",
    "        print(\"3. Update Student\")\n",
    "        print(\"4. Delete Student\")\n",
    "        print(\"5. Exit\")\n",
    "        \n",
    "        choice = input(\"Choose an option: \")  # Prompt user for a menu choice\n",
    "\n",
    "        # Execute the corresponding function based on user choice\n",
    "        if choice == \"1\":\n",
    "            add_student(students)\n",
    "        elif choice == \"2\":\n",
    "            display_students(students)\n",
    "        elif choice == \"3\":\n",
    "            update_student(students)\n",
    "        elif choice == \"4\":\n",
    "            delete_student(students)\n",
    "        elif choice == \"5\":\n",
    "            break  # Exit the loop and end the program\n",
    "        else:\n",
    "            print(\"Invalid choice. Please try again.\")  # Handle invalid menu choices\n",
    "\n",
    "if __name__ == \"__main__\":\n",
    "    main()  # Run the main function if the script is executed directly"
   ]
  },
  {
   "cell_type": "code",
   "execution_count": null,
   "id": "f8c4347f-1e74-41cc-9bee-a8beeb1be776",
   "metadata": {},
   "outputs": [],
   "source": []
  }
 ],
 "metadata": {
  "kernelspec": {
   "display_name": "Python 3 (ipykernel)",
   "language": "python",
   "name": "python3"
  },
  "language_info": {
   "codemirror_mode": {
    "name": "ipython",
    "version": 3
   },
   "file_extension": ".py",
   "mimetype": "text/x-python",
   "name": "python",
   "nbconvert_exporter": "python",
   "pygments_lexer": "ipython3",
   "version": "3.12.4"
  }
 },
 "nbformat": 4,
 "nbformat_minor": 5
}
