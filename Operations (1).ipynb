{
 "cells": [
  {
   "cell_type": "code",
   "execution_count": 12,
   "id": "b29ad56e-b74a-4dd2-942c-40ecd47dc94c",
   "metadata": {},
   "outputs": [
    {
     "name": "stdin",
     "output_type": "stream",
     "text": [
      "Enter the number of elements:  4\n",
      "Enter the number: 10\n",
      "Enter the number: 20\n",
      "Enter the number: 30\n",
      "Enter the number: 40\n"
     ]
    },
    {
     "name": "stdout",
     "output_type": "stream",
     "text": [
      "Sum of numbers is: 100\n",
      "Minimum element is: 10\n",
      "Maximum element is: 40\n",
      "Average is: 25.0\n"
     ]
    }
   ],
   "source": [
    "# Python program that performs operations on a list of numbers: \n",
    "# the max, min, average.\n",
    "\n",
    "# Get the number of elements from the user using the input function.\n",
    "n = int(input(\"Enter the number of elements: \"))\n",
    "\n",
    "# Initialize an empty list to store the numbers.\n",
    "l1 = list() \n",
    "\n",
    "# Read the actual elements one by one from the user.\n",
    "for i in range(n): \n",
    "    # Prompt the user to enter a number and convert it to an integer.\n",
    "    ele = int(input(\"Enter the number:\"))\n",
    "    \n",
    "    # Append the entered number to the list.\n",
    "    l1.append(ele)  \n",
    "\n",
    "# Calculate the sum of all elements in the list.\n",
    "s = sum(l1)          \n",
    "\n",
    "# Calculate the minimum and maximum elements in the list.\n",
    "Min = min(l1)        \n",
    "Max = max(l1)        \n",
    "\n",
    "# Calculate the average of numbers in the list.\n",
    "avg = s / len(l1)    \n",
    "\n",
    "# Print the results.\n",
    "print(\"Sum of numbers is:\", s)\n",
    "print(\"Minimum element is:\", Min)\n",
    "print(\"Maximum element is:\", Max)\n",
    "print(\"Average is:\", avg)"
   ]
  },
  {
   "cell_type": "code",
   "execution_count": null,
   "id": "0d5eafd6-8afa-42ab-a0f2-bbd8fbb14a12",
   "metadata": {},
   "outputs": [],
   "source": []
  }
 ],
 "metadata": {
  "kernelspec": {
   "display_name": "Python 3 (ipykernel)",
   "language": "python",
   "name": "python3"
  },
  "language_info": {
   "codemirror_mode": {
    "name": "ipython",
    "version": 3
   },
   "file_extension": ".py",
   "mimetype": "text/x-python",
   "name": "python",
   "nbconvert_exporter": "python",
   "pygments_lexer": "ipython3",
   "version": "3.12.4"
  }
 },
 "nbformat": 4,
 "nbformat_minor": 5
}
