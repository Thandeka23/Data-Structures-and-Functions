{
 "cells": [
  {
   "cell_type": "code",
   "execution_count": null,
   "id": "5c51cf29-60dc-4854-9374-2e3eb60df945",
   "metadata": {},
   "outputs": [],
   "source": [
    "#Factorial of a Number in Python using for Loop\n",
    "#Accept input from the user\n",
    "n = int(input(\"Enter any number: \"))\n",
    "#Initialise a variable to store the factorial value.\n",
    "a = 1\n",
    "#Using for loop to calculate the factorial of the input number.\n",
    "for i in range(n, 0, -1):\n",
    "    a *= i\n",
    "#Printing the output\n",
    "print(\"Factorial is\", a)"
   ]
  },
  {
   "cell_type": "code",
   "execution_count": null,
   "id": "b5f54a08-3b7b-45ee-9b24-ff5e5235a43a",
   "metadata": {},
   "outputs": [],
   "source": []
  },
  {
   "cell_type": "code",
   "execution_count": null,
   "id": "1b20c7bf-df0a-4491-9580-50bb7e15b8de",
   "metadata": {},
   "outputs": [],
   "source": []
  }
 ],
 "metadata": {
  "kernelspec": {
   "display_name": "Python 3",
   "language": "python",
   "name": "python3"
  },
  "language_info": {
   "codemirror_mode": {
    "name": "ipython",
    "version": 3
   },
   "file_extension": ".py",
   "mimetype": "text/x-python",
   "name": "python",
   "nbconvert_exporter": "python",
   "pygments_lexer": "ipython3",
   "version": "3.13.0"
  }
 },
 "nbformat": 4,
 "nbformat_minor": 5
}
